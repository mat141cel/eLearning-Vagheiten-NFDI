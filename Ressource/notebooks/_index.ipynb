{
  "cells": [
    {
      "cell_type": "markdown",
      "id": "GlJHef46Wtfg",
      "metadata": {
        "id": "GlJHef46Wtfg"
      },
      "source": [
        "Willkommen zum ersten begleitenden Colab-Notebook im Kurs zu numismatischen Daten. Diese Seite besteht aus Begleittext wie diesem hier und ausführbaren Codezeilen meist in der Sprache Python. Unten befindet sich eine Code-Zelle. Sie können den Code ausführen, wenn Sie mit der Maus auf die Zelle hovern, und auf das Play-Symbol im linken Rand der Zelle klicken.\n",
        "\n",
        "Beim ersten ausführen der Zelle erscheint ein Popup-Fenster, dass fragt, ob man den Code wirklich ausführen möchte, dann dauert es ein paar Sekunden bis das Notebook initialisiert hat. Sobald das geschehen ist, erscheinen in der rechten Ecke drei kleine Punkte und der Text \"verbunden\". Sobald das geschehen ist, erscheint unter der folgenden Zeile \"15\". "
      ]
    },
    {
      "cell_type": "code",
      "execution_count": null,
      "id": "835c57e4",
      "metadata": {
        "colab": {
          "base_uri": "https://localhost:8080/"
        },
        "id": "835c57e4",
        "outputId": "508fe22d-dca1-4dfe-c1b1-f8ec41e6e0df"
      },
      "outputs": [],
      "source": [
        "a = 10 + 5\n",
        "print(a)"
      ]
    },
    {
      "cell_type": "markdown",
      "id": "2JxuFZB1Yp_h",
      "metadata": {
        "id": "2JxuFZB1Yp_h"
      },
      "source": [
        "In diesem Kurs werden alle Funktionen vorgegeben sein, keine Sorge, Sie müssen nicht selbst coden. Allerdings müssen sie manche Werte verändern, um die richtigen Ergebnisse zu erhalten. Oft werden so genannte Funktionen (def: ...) vorgegeben. Diese können dann mit der Angabe der richtigen Parameter ausgeführt werden. Ein Beispiel ist der folgende Code, der überprüft, ob ein bestimmter Münztyp von Hadrian geprägt wurde."
      ]
    },
    {
      "cell_type": "code",
      "execution_count": 1,
      "id": "hoKOZrqkYpe4",
      "metadata": {
        "id": "hoKOZrqkYpe4"
      },
      "outputs": [],
      "source": [
        "def is_from_hadrian(url: str) -> bool:\n",
        "    if \"numismatics.org/ocre\" not in url:\n",
        "        print(\"Das ist kein Münztyp aus OCRE! Bitte versuchen Sie es erneut.\")\n",
        "        return False\n",
        "    if \"hdn\" in url:\n",
        "        print(\"Richtig, das ist eine Münze von Hadrian!\")\n",
        "        return True\n",
        "    print(\"\"\"Dieser Typ ist zwar aus Ocre, aber diese Münze ist nicht von Hadrian\n",
        "    Bitte versuchen Sie es erneut.\"\"\")"
      ]
    },
    {
      "cell_type": "markdown",
      "id": "WWr9PQc7aSRt",
      "metadata": {
        "id": "WWr9PQc7aSRt"
      },
      "source": [
        "Python ist eine sprechende Sprache und relativ einfach zu verstehen. Für diesen Kurs ist nur wichtig zu verstehen, welche Parameter eine Funktion annimmt. Die Parameter stehen direkt nach dem Namen, in diesem Fall \"is_from_hadrian\" in Klammern. Diese Funktion braucht nur eine Url, die als so genannter [string](https://www.w3schools.com/python/python_strings.asp) (kurz str, deutsch: Zeichenkette) definiert ist. Strings müssen immer in Anführungszeichen angegeben werden."
      ]
    },
    {
      "cell_type": "markdown",
      "id": "TW2DXWi-bygP",
      "metadata": {
        "id": "TW2DXWi-bygP"
      },
      "source": [
        "Die Funktion kann auf die folgende Art und Weise genutzt werden. Testen Sie die FUnktion, indem Sie auf dem Portal [OCRE](https://numismatics.org/ocre) nach Münztypen suchen, und \"Hier Url einfügen\" durch die url ersetzten. Achten Sie auf Anführungszeichen"
      ]
    },
    {
      "cell_type": "code",
      "execution_count": 3,
      "id": "oCS1kRqPaJnx",
      "metadata": {
        "colab": {
          "base_uri": "https://localhost:8080/",
          "height": 106
        },
        "id": "oCS1kRqPaJnx",
        "outputId": "c41035ca-17f9-4a86-9989-caa18c7931b5"
      },
      "outputs": [
        {
          "ename": "SyntaxError",
          "evalue": "invalid syntax (ipython-input-2766849541.py, line 1)",
          "output_type": "error",
          "traceback": [
            "\u001b[0;36m  File \u001b[0;32m\"/tmp/ipython-input-2766849541.py\"\u001b[0;36m, line \u001b[0;32m1\u001b[0m\n\u001b[0;31m    url = Hier URL einfügen\u001b[0m\n\u001b[0m               ^\u001b[0m\n\u001b[0;31mSyntaxError\u001b[0m\u001b[0;31m:\u001b[0m invalid syntax\n"
          ]
        }
      ],
      "source": [
        "url = \"Hier URL einfügen\"\n",
        "is_from_hadrian(url)"
      ]
    },
    {
      "cell_type": "markdown",
      "id": "lqSFu_cpcj2W",
      "metadata": {
        "id": "lqSFu_cpcj2W"
      },
      "source": [
        "Achten Sie darauf, dass Sie alle notwendigen Codezeilen ausführen."
      ]
    }
  ],
  "metadata": {
    "colab": {
      "provenance": []
    },
    "kernelspec": {
      "display_name": "Python 3",
      "name": "python3"
    },
    "language_info": {
      "codemirror_mode": {
        "name": "ipython",
        "version": 3
      },
      "file_extension": ".py",
      "mimetype": "text/x-python",
      "name": "python",
      "nbconvert_exporter": "python",
      "pygments_lexer": "ipython3",
      "version": "3.13.7"
    }
  },
  "nbformat": 4,
  "nbformat_minor": 5
}
