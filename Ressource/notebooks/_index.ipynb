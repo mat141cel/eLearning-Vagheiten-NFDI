{
  "cells": [
    {
      "cell_type": "markdown",
      "source": [
        "Willkommen zum Ersten begleitenden Colab-Notebook im Kurs zu numismatischen Daten. Diese Seite besteht aus Begleittext wie diesem hier und ausführbaren Codezeilen meist in der Sprache Python. Unten befindet sich eine Code-Zelle. Sie können den Code ausführen, wenn Sie mit der Maus auf die Zelle hovern, und auf das Play-Symbol im linken Rand der Zelle klicken."
      ],
      "metadata": {
        "id": "GlJHef46Wtfg"
      },
      "id": "GlJHef46Wtfg"
    },
    {
      "cell_type": "code",
      "execution_count": 2,
      "id": "835c57e4",
      "metadata": {
        "colab": {
          "base_uri": "https://localhost:8080/"
        },
        "id": "835c57e4",
        "outputId": "508fe22d-dca1-4dfe-c1b1-f8ec41e6e0df"
      },
      "outputs": [
        {
          "output_type": "stream",
          "name": "stdout",
          "text": [
            "10\n"
          ]
        }
      ],
      "source": [
        "a = 10\n",
        "print(a)"
      ]
    },
    {
      "cell_type": "markdown",
      "source": [
        "In diesem Kurs werden alle Funktionen vorgegeben sein, keine Sorge, Sie müssen nicht selbst coden. Allerdings müssen sie manche Werte verändern, um die richtigen Ergebnisse zu erhalten. Oft werden so genannte Funktionen (def: ...) vorgegeben. Diese können dann mit der Angabe der richtigen Parameter ausgeführt werden. Ein Beispiel ist der folgende Code, der überprüft, ob ein bestimmter Münztyp von Hadrian geprägt wurde."
      ],
      "metadata": {
        "id": "2JxuFZB1Yp_h"
      },
      "id": "2JxuFZB1Yp_h"
    },
    {
      "cell_type": "code",
      "source": [
        "def is_from_hadrian(url: str) -> bool:\n",
        "    if \"numismatics.org/ocre\" not in url:\n",
        "        print(\"Das ist kein Münztyp aus OCRE! Bitte versuchen Sie es erneut.\")\n",
        "        return False\n",
        "    if \"hdn\" in url:\n",
        "        print(\"Richtig, das ist eine Münze von Hadrian!\")\n",
        "        return True\n",
        "    print(\"\"\"Dieser Typ ist zwar aus Ocre, aber diese Münze ist nicht von Hadrian\n",
        "    Bitte versuchen Sie es erneut.\"\"\")"
      ],
      "metadata": {
        "id": "hoKOZrqkYpe4"
      },
      "id": "hoKOZrqkYpe4",
      "execution_count": 1,
      "outputs": []
    },
    {
      "cell_type": "markdown",
      "source": [
        "Python ist eine sprechende Sprache und relativ einfach zu verstehen. Für diesen Kurs ist nur wichtig zu verstehen, welche Parameter eine Funktion annimmt. Die Parameter stehen direkt nach dem Namen, in diesem Fall \"is_from_hadrian\" in Klammern. Diese Funktion braucht nur eine Url, die als so genannter [string](https://www.w3schools.com/python/python_strings.asp) (kurz str, deutsch: Zeichenkette) definiert ist. Strings müssen immer in Anführungszeichen angegeben werden."
      ],
      "metadata": {
        "id": "WWr9PQc7aSRt"
      },
      "id": "WWr9PQc7aSRt"
    },
    {
      "cell_type": "markdown",
      "source": [
        "Die Funktion kann auf die folgende Art und Weise genutzt werden. Testen Sie die FUnktion, indem Sie auf dem Portal [OCRE](https://numismatics.org/ocre) nach Münztypen suchen, und \"Hier Url einfügen\" durch die url ersetzten. Achten Sie auf Anführungszeichen"
      ],
      "metadata": {
        "id": "TW2DXWi-bygP"
      },
      "id": "TW2DXWi-bygP"
    },
    {
      "cell_type": "code",
      "source": [
        "url = \"Hier URL einfügen\"\n",
        "is_from_hadrian(url)"
      ],
      "metadata": {
        "id": "oCS1kRqPaJnx",
        "outputId": "c41035ca-17f9-4a86-9989-caa18c7931b5",
        "colab": {
          "base_uri": "https://localhost:8080/",
          "height": 106
        }
      },
      "id": "oCS1kRqPaJnx",
      "execution_count": 3,
      "outputs": [
        {
          "output_type": "error",
          "ename": "SyntaxError",
          "evalue": "invalid syntax (ipython-input-2766849541.py, line 1)",
          "traceback": [
            "\u001b[0;36m  File \u001b[0;32m\"/tmp/ipython-input-2766849541.py\"\u001b[0;36m, line \u001b[0;32m1\u001b[0m\n\u001b[0;31m    url = Hier URL einfügen\u001b[0m\n\u001b[0m               ^\u001b[0m\n\u001b[0;31mSyntaxError\u001b[0m\u001b[0;31m:\u001b[0m invalid syntax\n"
          ]
        }
      ]
    },
    {
      "cell_type": "markdown",
      "source": [
        "Achten Sie darauf, dass Sie alle notwendigen Codezeilen ausführen."
      ],
      "metadata": {
        "id": "lqSFu_cpcj2W"
      },
      "id": "lqSFu_cpcj2W"
    }
  ],
  "metadata": {
    "kernelspec": {
      "display_name": "Python 3",
      "name": "python3"
    },
    "language_info": {
      "codemirror_mode": {
        "name": "ipython",
        "version": 3
      },
      "file_extension": ".py",
      "mimetype": "text/x-python",
      "name": "python",
      "nbconvert_exporter": "python",
      "pygments_lexer": "ipython3",
      "version": "3.13.7"
    },
    "colab": {
      "provenance": []
    }
  },
  "nbformat": 4,
  "nbformat_minor": 5
}