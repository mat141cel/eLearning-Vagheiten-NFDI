{
  "cells": [
    {
      "cell_type": "markdown",
      "source": [
        "Willkommen zum Ersten begleitenden Colab-Notebook im Kurs zu numismatischen Daten. Diese Seite besteht aus Begleittext wie diesem hier und ausführbaren Codezeilen. Unten befindet sich eine Code-Zelle. Sie können den Code ausführen, wenn Sie mit der Maus auf die Zelle hovern, und auf das Play-Symbol im linken Rand der Zelle klicken."
      ],
      "metadata": {
        "id": "GlJHef46Wtfg"
      },
      "id": "GlJHef46Wtfg"
    },
    {
      "cell_type": "code",
      "execution_count": null,
      "id": "835c57e4",
      "metadata": {
        "id": "835c57e4"
      },
      "outputs": [],
      "source": []
    },
    {
      "cell_type": "code",
      "execution_count": null,
      "id": "3876b656",
      "metadata": {
        "id": "3876b656",
        "outputId": "535fca9c-bf3f-4df3-c9d8-200602bb6fb0"
      },
      "outputs": [
        {
          "name": "stdout",
          "output_type": "stream",
          "text": [
            "test\n"
          ]
        }
      ],
      "source": [
        "print(\"test\")"
      ]
    }
  ],
  "metadata": {
    "kernelspec": {
      "display_name": "Python 3",
      "language": "python",
      "name": "python3"
    },
    "language_info": {
      "codemirror_mode": {
        "name": "ipython",
        "version": 3
      },
      "file_extension": ".py",
      "mimetype": "text/x-python",
      "name": "python",
      "nbconvert_exporter": "python",
      "pygments_lexer": "ipython3",
      "version": "3.13.7"
    },
    "colab": {
      "provenance": []
    }
  },
  "nbformat": 4,
  "nbformat_minor": 5
}